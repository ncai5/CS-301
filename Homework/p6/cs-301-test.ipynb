{
 "cells": [
  {
   "cell_type": "code",
   "execution_count": 1,
   "metadata": {},
   "outputs": [],
   "source": [
    "# project: p6\n",
    "# submitter-netid: ncai5\n",
    "# partner-netid: hpan56"
   ]
  },
  {
   "cell_type": "code",
   "execution_count": 2,
   "metadata": {},
   "outputs": [],
   "source": [
    "import csv\n",
    "import numpy as np\n",
    "def process_csv(filename):\n",
    "  exampleFile = open(filename, encoding=\"utf-8\")\n",
    "  exampleReader = csv.reader(exampleFile)\n",
    "  exampleData = list(exampleReader)\n",
    "  return exampleData\n",
    "data=process_csv(\"wine.csv\")"
   ]
  },
  {
   "cell_type": "code",
   "execution_count": 3,
   "metadata": {},
   "outputs": [
    {
     "data": {
      "text/plain": [
       "['US',\n",
       " 'Spain',\n",
       " 'France',\n",
       " 'Italy',\n",
       " 'New Zealand',\n",
       " 'Bulgaria',\n",
       " 'Argentina',\n",
       " 'Australia',\n",
       " 'Portugal',\n",
       " 'Israel',\n",
       " 'South Africa',\n",
       " 'Greece',\n",
       " 'Chile',\n",
       " 'Morocco',\n",
       " 'Romania',\n",
       " 'Germany',\n",
       " 'Canada',\n",
       " 'Moldova',\n",
       " 'Hungary',\n",
       " 'Austria',\n",
       " 'Croatia',\n",
       " 'Slovenia',\n",
       " 'India']"
      ]
     },
     "execution_count": 3,
     "metadata": {},
     "output_type": "execute_result"
    }
   ],
   "source": [
    "#q1 which country names are listed in the country column of the dataset?\n",
    "country_name=list()\n",
    "index=0\n",
    "for i in range(1,len(data)):\n",
    "    if data[i][index] == \"\":\n",
    "        continue\n",
    "    elif data[i][index] in country_name:\n",
    "        continue\n",
    "    else:\n",
    "        country_name.append(data[i][index])\n",
    "country_name"
   ]
  },
  {
   "cell_type": "code",
   "execution_count": 4,
   "metadata": {},
   "outputs": [
    {
     "data": {
      "text/plain": [
       "39.40787623066104"
      ]
     },
     "execution_count": 4,
     "metadata": {},
     "output_type": "execute_result"
    }
   ],
   "source": [
    "#q2 what is the average wine price?\n",
    "price=list()\n",
    "index=2\n",
    "for i in range(1,len(data)):\n",
    "    if data[i][index] == \"\":\n",
    "        continue\n",
    "    else:\n",
    "        price.append(float(data[i][index]))\n",
    "avg_price=np.mean(price)\n",
    "avg_price"
   ]
  },
  {
   "cell_type": "code",
   "execution_count": 5,
   "metadata": {},
   "outputs": [
    {
     "data": {
      "text/plain": [
       "['Tinta de Toro',\n",
       " 'Tempranillo',\n",
       " 'Tempranillo Blend',\n",
       " 'Mencía',\n",
       " 'Palomino',\n",
       " 'Monastrell',\n",
       " 'Albariño',\n",
       " 'Sparkling Blend',\n",
       " 'Godello',\n",
       " 'Red Blend',\n",
       " 'White Blend',\n",
       " 'Sherry',\n",
       " 'Garnacha',\n",
       " 'Moscatel',\n",
       " 'Garnacha Blanca',\n",
       " 'Grenache-Syrah']"
      ]
     },
     "execution_count": 5,
     "metadata": {},
     "output_type": "execute_result"
    }
   ],
   "source": [
    "#q3 which wine varieties are produced by Spain?\n",
    "wine_varieties=list()\n",
    "index=3\n",
    "for i in range(1,len(data)):\n",
    "    if data[i][0]==\"Spain\":\n",
    "        if data[i][index] in wine_varieties:\n",
    "            continue\n",
    "        else:\n",
    "            wine_varieties.append(data[i][index])\n",
    "wine_varieties        "
   ]
  },
  {
   "cell_type": "code",
   "execution_count": 6,
   "metadata": {},
   "outputs": [
    {
     "data": {
      "text/plain": [
       "['Château Pégau',\n",
       " 'Hawk Watch Winery',\n",
       " 'Laird',\n",
       " 'MCV',\n",
       " 'Tetra',\n",
       " 'Beronia',\n",
       " 'Adelaida Cellars',\n",
       " 'Palmeri',\n",
       " 'Sevtap',\n",
       " 'Montes',\n",
       " 'Fess Parker',\n",
       " 'Andrew Murray',\n",
       " 'Clos La Chance']"
      ]
     },
     "execution_count": 6,
     "metadata": {},
     "output_type": "execute_result"
    }
   ],
   "source": [
    "#q4 which wineries make wines containing the phrase \"beef\" in the description?\n",
    "wineries_beef=list()\n",
    "index=4\n",
    "for i in range(1,len(data)):\n",
    "    if \"beef\" in data[i][5].lower():\n",
    "        if data[i][index] in wineries_beef:\n",
    "            continue\n",
    "        else:\n",
    "            wineries_beef.append(data[i][index])\n",
    "wineries_beef"
   ]
  },
  {
   "cell_type": "code",
   "execution_count": 7,
   "metadata": {},
   "outputs": [
    {
     "data": {
      "text/plain": [
       "['Santa Cruz Mountain Vineyard',\n",
       " 'Stephen Ross',\n",
       " 'Heron Hill',\n",
       " 'Fattoria di Magliano',\n",
       " 'Quinta Nova de Nossa Senhora do Carmo',\n",
       " 'Byron',\n",
       " 'Bürgermeister Willi Schweinhardt',\n",
       " 'MCV',\n",
       " 'Dr. H. Thanisch (Erben Thanisch)',\n",
       " 'Benoît Girard',\n",
       " 'Domaine Ostertag',\n",
       " 'Concha y Toro',\n",
       " 'Sheldrake Point',\n",
       " 'Domaine Collotte',\n",
       " 'Domaine Allimant-Laugner',\n",
       " 'Margerum',\n",
       " 'Brander']"
      ]
     },
     "execution_count": 7,
     "metadata": {},
     "output_type": "execute_result"
    }
   ],
   "source": [
    "#q5 which wineries make wines containing the phrase \"zesty\" in the description?\n",
    "wineries_zesty=list()\n",
    "index=4\n",
    "for i in range(1,len(data)):\n",
    "    if \"zesty\" in data[i][5].lower():\n",
    "        if data[i][index] in wineries_zesty:\n",
    "            continue\n",
    "        else:\n",
    "            wineries_zesty.append(data[i][index])\n",
    "wineries_zesty"
   ]
  },
  {
   "cell_type": "code",
   "execution_count": 8,
   "metadata": {},
   "outputs": [
    {
     "data": {
      "text/plain": [
       "['Maurodos',\n",
       " 'Bodega Carmen Rodríguez',\n",
       " 'Val de Los Frailes',\n",
       " 'Matarromera',\n",
       " 'Palacio del Burgo']"
      ]
     },
     "execution_count": 8,
     "metadata": {},
     "output_type": "execute_result"
    }
   ],
   "source": [
    "#q6 which wineries make wines containing the phrase \"black-fruit aroma\" in the description?\n",
    "wineries_blackfruitaroma=list()\n",
    "index=4\n",
    "for i in range(1,len(data)):\n",
    "    if \"black-fruit aroma\" in data[i][5].lower():\n",
    "        if data[i][index] in wineries_blackfruitaroma:\n",
    "            continue\n",
    "        else:\n",
    "            wineries_blackfruitaroma.append(data[i][index])\n",
    "wineries_blackfruitaroma"
   ]
  },
  {
   "cell_type": "code",
   "execution_count": 9,
   "metadata": {},
   "outputs": [
    {
     "data": {
      "text/plain": [
       "['Cabernet Sauvignon']"
      ]
     },
     "execution_count": 9,
     "metadata": {},
     "output_type": "execute_result"
    }
   ],
   "source": [
    "#q7 which wine varieties are anagrams of the phrase \"antibus governance\"?\n",
    "\n",
    "wine_varieties1=list()\n",
    "def check_anagrams(data_word,anagrams):\n",
    "    anagrams=anagrams.replace(\" \",\"\").lower()\n",
    "    data_word_new=data_word.replace(\" \",\"\").lower()\n",
    "    if sorted(data_word_new)== sorted(anagrams):\n",
    "        return data_word\n",
    "for i in range(1,len(data)):\n",
    "    if check_anagrams(data[i][3],\"antibus governance\")!= None:\n",
    "        if check_anagrams(data[i][3],\"antibus governance\") not in wine_varieties1:\n",
    "            wine_varieties1.append(check_anagrams(data[i][3],\"antibus governance\"))\n",
    "        \n",
    "    \n",
    "wine_varieties1\n"
   ]
  },
  {
   "cell_type": "code",
   "execution_count": 10,
   "metadata": {},
   "outputs": [
    {
     "data": {
      "text/plain": [
       "['Tempranillo Blend']"
      ]
     },
     "execution_count": 10,
     "metadata": {},
     "output_type": "execute_result"
    }
   ],
   "source": [
    "#q8 which wine varieties are anagrams of the phrase \"Banned Petrol Mill\"\n",
    "wine_varieties2=list()\n",
    "\n",
    "for i in range(1,len(data)):\n",
    "    if check_anagrams(data[i][3],\"Banned Petrol Mill\")!= None:\n",
    "        if check_anagrams(data[i][3],\"Banned Petrol Mill\") not in wine_varieties2:\n",
    "            wine_varieties2.append(check_anagrams(data[i][3],\"Banned Petrol Mill\"))\n",
    "        \n",
    "wine_varieties2"
   ]
  },
  {
   "cell_type": "code",
   "execution_count": 11,
   "metadata": {},
   "outputs": [
    {
     "data": {
      "text/plain": [
       "['Cabernet Sauvignon', 'Sauvignon Blanc', 'Pinot Noir']"
      ]
     },
     "execution_count": 11,
     "metadata": {},
     "output_type": "execute_result"
    }
   ],
   "source": [
    "#q9 what is the highest-rated wine variety made in \"US\"?\n",
    "\n",
    "\n",
    "def best_variety(data,country):\n",
    "    best_varieties=list()\n",
    "    points=list()\n",
    "    varieties=list()\n",
    "    for a in data:\n",
    "        if a[0]==country:\n",
    "            points.append(a[1])\n",
    "            varieties.append(a[3])\n",
    "    for i in range(0,len(points)):\n",
    "        if points[i]==max(points):\n",
    "            best_varieties.append(varieties[i])\n",
    "    return best_varieties\n",
    "best_variety(data,\"US\")\n"
   ]
  },
  {
   "cell_type": "code",
   "execution_count": 12,
   "metadata": {},
   "outputs": [
    {
     "data": {
      "text/plain": [
       "['Tinta de Toro']"
      ]
     },
     "execution_count": 12,
     "metadata": {},
     "output_type": "execute_result"
    }
   ],
   "source": [
    "#q10 what is the highest-rated wine variety made in \"Spain\"?\n",
    "best_variety(data,\"Spain\")"
   ]
  },
  {
   "cell_type": "code",
   "execution_count": 13,
   "metadata": {},
   "outputs": [
    {
     "data": {
      "text/plain": [
       "2.183421985815603"
      ]
     },
     "execution_count": 13,
     "metadata": {},
     "output_type": "execute_result"
    }
   ],
   "source": [
    "#q11 what is the average points-per-dollar (PPD) ratio of the \"Heitz\" winery?\n",
    "def avg_pdd(data,winery):\n",
    "    pdd=list()\n",
    "    for a in data:\n",
    "        if a[4]==winery:\n",
    "            pdd.append(float(a[1])/float(a[2]))\n",
    "    return np.mean(pdd)\n",
    "avg_pdd(data,\"Heitz\")"
   ]
  },
  {
   "cell_type": "code",
   "execution_count": 14,
   "metadata": {},
   "outputs": [
    {
     "data": {
      "text/plain": [
       "1.288074888074888"
      ]
     },
     "execution_count": 14,
     "metadata": {},
     "output_type": "execute_result"
    }
   ],
   "source": [
    "#q12 what is the average PPD of the \"Ponzi\" winery?\n",
    "avg_pdd(data,\"Ponzi\")\n"
   ]
  },
  {
   "cell_type": "code",
   "execution_count": 15,
   "metadata": {},
   "outputs": [
    {
     "data": {
      "text/plain": [
       "'Spy Valley'"
      ]
     },
     "execution_count": 15,
     "metadata": {},
     "output_type": "execute_result"
    }
   ],
   "source": [
    "#q13 which winery in New Zealand has the highest average PPD?\n",
    "\n",
    "\n",
    "def best_winery(data,country):\n",
    "    avg_pdd=list()\n",
    "    winery=list()\n",
    "    pdd_winery=list()\n",
    "    for a in data:\n",
    "        if a[0]==country:\n",
    "            pdd_winery.append([float(a[1])/float(a[2]),a[4]])\n",
    "    for j in pdd_winery:\n",
    "        if j[1] not in winery:\n",
    "            winery.append(j[1])\n",
    "    for w in winery:\n",
    "        avg=list()\n",
    "        for p in pdd_winery:\n",
    "            if p[1]==w:\n",
    "                avg.append(p[0])\n",
    "        avg_pdd.append(np.mean(avg))\n",
    "    for i in range(0,len(avg_pdd)):\n",
    "        if avg_pdd[i]==max(avg_pdd):\n",
    "            return winery[i]\n",
    "                \n",
    "                \n",
    "best_winery(data,country=\"New Zealand\")               \n",
    "                \n",
    "                "
   ]
  },
  {
   "cell_type": "code",
   "execution_count": 16,
   "metadata": {},
   "outputs": [],
   "source": []
  },
  {
   "cell_type": "code",
   "execution_count": 16,
   "metadata": {},
   "outputs": [
    {
     "data": {
      "text/plain": [
       "'Riposte'"
      ]
     },
     "execution_count": 16,
     "metadata": {},
     "output_type": "execute_result"
    }
   ],
   "source": [
    "#q14 which winery in Australia has the highest average PPD?\n",
    "best_winery(data,country=\"Australia\")      "
   ]
  },
  {
   "cell_type": "code",
   "execution_count": 17,
   "metadata": {},
   "outputs": [
    {
     "data": {
      "text/plain": [
       "'Cave Spring'"
      ]
     },
     "execution_count": 17,
     "metadata": {},
     "output_type": "execute_result"
    }
   ],
   "source": [
    "#q15 which winery in Canada has the highest average PPD?\n",
    "best_winery(data,country=\"Canada\")      "
   ]
  },
  {
   "cell_type": "code",
   "execution_count": 18,
   "metadata": {},
   "outputs": [
    {
     "data": {
      "text/plain": [
       "['Portuguese White', 'Portuguese Rosé', 'Portuguese Red']"
      ]
     },
     "execution_count": 18,
     "metadata": {},
     "output_type": "execute_result"
    }
   ],
   "source": [
    "#q16 which wine varieties are produced by the \"Quinta Nova de Nossa Senhora do Carmo\" winery?\n",
    "def wine_varieties(data,producer):\n",
    "    varieties=list()\n",
    "    for a in data:\n",
    "        if a[4] == producer:\n",
    "            if a[3] not in varieties:\n",
    "                varieties.append(a[3])\n",
    "    return varieties\n",
    "wine_varieties(data,\"Quinta Nova de Nossa Senhora do Carmo\")"
   ]
  },
  {
   "cell_type": "code",
   "execution_count": 19,
   "metadata": {},
   "outputs": [
    {
     "data": {
      "text/plain": [
       "['Portuguese Red', 'Portuguese White']"
      ]
     },
     "execution_count": 19,
     "metadata": {},
     "output_type": "execute_result"
    }
   ],
   "source": [
    "#q17 which wine varieties are produced by the \"Adega Cooperativa de Borba\" winery?\n",
    "wine_varieties(data,\"Adega Cooperativa de Borba\")"
   ]
  },
  {
   "cell_type": "code",
   "execution_count": 20,
   "metadata": {},
   "outputs": [
    {
     "data": {
      "text/plain": [
       "['Touriga Nacional', 'Portuguese Sparkling', 'Portuguese Red']"
      ]
     },
     "execution_count": 20,
     "metadata": {},
     "output_type": "execute_result"
    }
   ],
   "source": [
    "#q18 which wine varieties are produced by the \"Global Wines\" winery?\n",
    "wine_varieties(data,\"Global Wines\")"
   ]
  },
  {
   "cell_type": "code",
   "execution_count": 21,
   "metadata": {},
   "outputs": [
    {
     "data": {
      "text/plain": [
       "66.66666666666666"
      ]
     },
     "execution_count": 21,
     "metadata": {},
     "output_type": "execute_result"
    }
   ],
   "source": [
    "#q19 what percentage of the varieties produced by \"Quinta Nova de Nossa Senhora do Carmo\" are also produced by \"Adega Cooperativa de Borba\"?\n",
    "def percentage(data,producer1, producer2):\n",
    "    count=0\n",
    "    varieties1=list()\n",
    "    varieties2=list()\n",
    "    for a in data:\n",
    "        if a[4] == producer1:\n",
    "            if a[3] not in varieties1:\n",
    "                varieties1.append(a[3])\n",
    "        elif a[4] == producer2:\n",
    "            if a[3] not in varieties2:\n",
    "                varieties2.append(a[3])\n",
    "    for c in varieties2:\n",
    "        if c in varieties1:\n",
    "            count+=1\n",
    "    return count/len(varieties1) *100\n",
    "percentage(data,\"Quinta Nova de Nossa Senhora do Carmo\" , \"Adega Cooperativa de Borba\")\n",
    "                "
   ]
  },
  {
   "cell_type": "code",
   "execution_count": 22,
   "metadata": {},
   "outputs": [
    {
     "data": {
      "text/plain": [
       "33.33333333333333"
      ]
     },
     "execution_count": 22,
     "metadata": {},
     "output_type": "execute_result"
    }
   ],
   "source": [
    "#q20 what percentage of the varieties produced by \"Quinta Nova de Nossa Senhora do Carmo\" are also produced by \"Global Wines\"?\n",
    "percentage(data,\"Quinta Nova de Nossa Senhora do Carmo\" , \"Global Wines\")"
   ]
  }
 ],
 "metadata": {
  "kernelspec": {
   "display_name": "Python 3",
   "language": "python",
   "name": "python3"
  },
  "language_info": {
   "codemirror_mode": {
    "name": "ipython",
    "version": 3
   },
   "file_extension": ".py",
   "mimetype": "text/x-python",
   "name": "python",
   "nbconvert_exporter": "python",
   "pygments_lexer": "ipython3",
   "version": "3.6.5"
  }
 },
 "nbformat": 4,
 "nbformat_minor": 2
}
