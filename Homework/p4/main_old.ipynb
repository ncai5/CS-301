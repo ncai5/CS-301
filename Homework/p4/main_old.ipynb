{
 "cells": [
  {
   "cell_type": "code",
   "execution_count": null,
   "metadata": {},
   "outputs": [],
   "source": []
  },
  {
   "cell_type": "code",
   "execution_count": 17,
   "metadata": {},
   "outputs": [
    {
     "name": "stdout",
     "output_type": "stream",
     "text": [
      "What is the type of the following? '1.0' + '2.0'\n",
      "a) int\n",
      "b) float\n",
      "c) str\n",
      "d) bool\n",
      "e) NoneType\n",
      "Your answer: A\n",
      "You answered is 'a'. The correct answer is 'b'.\n",
      "Sorry your answer was incorrect.\n"
     ]
    }
   ],
   "source": [
    "# question 1\n",
    "print(\"What is the type of the following? '1.0' + '2.0'\")\n",
    "print(\"a) int\")\n",
    "print(\"b) float\")\n",
    "print(\"c) str\")\n",
    "print(\"d) bool\")\n",
    "print(\"e) NoneType\")\n",
    "answer = input(\"Your answer: \")\n",
    "answer = str.lower(str.strip(answer))\n",
    "print(\"You answered is '%s'. The correct answer is 'b'.\" %answer)\n",
    "if answer == \"b\":\n",
    "    print(\"Congratulations! You got it right.\")\n",
    "else :\n",
    "    print(\"Sorry your answer was incorrect.\")"
   ]
  },
  {
   "cell_type": "code",
   "execution_count": 21,
   "metadata": {},
   "outputs": [
    {
     "name": "stdout",
     "output_type": "stream",
     "text": [
      "What is the type of the following?\n",
      "'1' * 2\n",
      "Your answer: sa\n",
      "You answered is 'sa'. The correct answer is 'str'.\n",
      "Sorry your answer was incorrect.\n"
     ]
    }
   ],
   "source": [
    "# question 2\n",
    "print(\"What is the type of the following?\")\n",
    "print(\"'1' * 2\")\n",
    "answer = input(\"Your answer: \")\n",
    "answer = str.lower(str.strip(answer))\n",
    "print(\"You answered is '%s'. The correct answer is 'str'.\" %answer)\n",
    "if answer == \"str\":\n",
    "    print(\"Congratulations! You got it right.\")\n",
    "else :\n",
    "    print(\"Sorry your answer was incorrect.\")"
   ]
  },
  {
   "cell_type": "code",
   "execution_count": null,
   "metadata": {},
   "outputs": [],
   "source": [
    "askQuestion = function():\n",
    "    "
   ]
  },
  {
   "cell_type": "code",
   "execution_count": null,
   "metadata": {},
   "outputs": [],
   "source": []
  }
 ],
 "metadata": {
  "kernelspec": {
   "display_name": "Python 3",
   "language": "python",
   "name": "python3"
  },
  "language_info": {
   "codemirror_mode": {
    "name": "ipython",
    "version": 3
   },
   "file_extension": ".py",
   "mimetype": "text/x-python",
   "name": "python",
   "nbconvert_exporter": "python",
   "pygments_lexer": "ipython3",
   "version": "3.6.5"
  }
 },
 "nbformat": 4,
 "nbformat_minor": 2
}
