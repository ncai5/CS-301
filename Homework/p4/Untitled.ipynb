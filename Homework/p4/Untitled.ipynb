{
 "cells": [
  {
   "cell_type": "code",
   "execution_count": null,
   "metadata": {},
   "outputs": [],
   "source": [
    "# project: p4\n",
    "# submitter-netid: ncai5\n",
    "# partner-netid: hpan56"
   ]
  },
  {
   "cell_type": "code",
   "execution_count": 4,
   "metadata": {},
   "outputs": [
    {
     "name": "stdout",
     "output_type": "stream",
     "text": [
      "What is the type of the following? '1.0' + '2.0'\n",
      "a) int\n",
      "b) float\n",
      "c) str\n",
      "d) bool\n",
      "e) NoneType\n",
      "Your Answer: a\n",
      "Sorry your answer was incorrect.\n",
      "\n"
     ]
    }
   ],
   "source": [
    "#feature 1: Ask a question, get an answer\n",
    "\n",
    "print(\"What is the type of the following? '1.0' + '2.0'\")\n",
    "print(\"a) int\")\n",
    "print(\"b) float\")\n",
    "print(\"c) str\")\n",
    "print(\"d) bool\")\n",
    "print(\"e) NoneType\")\n",
    "\n",
    "#feature3\n",
    "answer1 = str.lower(str.strip(input(\"Your Answer: \"))) \n",
    "\n",
    "#feature 2\n",
    "if answer1 == 'b':\n",
    "    print(\"Congratulations! You got it right.\\n\")\n",
    "#feature 4\n",
    "else:\n",
    "    print(\"Sorry your answer was incorrect.\\n\")"
   ]
  },
  {
   "cell_type": "code",
   "execution_count": null,
   "metadata": {},
   "outputs": [],
   "source": []
  },
  {
   "cell_type": "code",
   "execution_count": null,
   "metadata": {},
   "outputs": [],
   "source": []
  },
  {
   "cell_type": "code",
   "execution_count": null,
   "metadata": {},
   "outputs": [],
   "source": []
  },
  {
   "cell_type": "code",
   "execution_count": null,
   "metadata": {},
   "outputs": [],
   "source": []
  },
  {
   "cell_type": "code",
   "execution_count": null,
   "metadata": {},
   "outputs": [],
   "source": []
  },
  {
   "cell_type": "code",
   "execution_count": null,
   "metadata": {},
   "outputs": [],
   "source": []
  },
  {
   "cell_type": "code",
   "execution_count": null,
   "metadata": {},
   "outputs": [],
   "source": []
  },
  {
   "cell_type": "code",
   "execution_count": null,
   "metadata": {},
   "outputs": [],
   "source": [
    "def askQuestion(hint = \"Check the textbook\", Correct_an):\n",
    "    count = 0\n",
    "    n = input(\"How many tries do you want for each question: \")\n",
    "    try1 = n\n",
    "    print(\"What is the type of the following? '1.0' + '2.0'\")\n",
    "    print(\"a) int\")\n",
    "    print(\"b) float\")\n",
    "    print(\"c) str\")\n",
    "    print(\"d) bool\")\n",
    "    print(\"e) NoneType\")\n",
    "    while try1 > 0:\n",
    "        answer1 = str.lower(str.strip(input(\"Your Answer: \")))\n",
    "        print(\"You answered '%s'. The correct answer is '%s'.\" %(answer1, Correct_an[0]))\n",
    "        if answer1 == Correct_an[0]:\n",
    "            print(\"Congratulations! You got it right.\\n\")\n",
    "            count += 1\n",
    "            break\n",
    "        elif try1 > 2:\n",
    "            print(\"Sorry your answer was incorrect.\")\n",
    "            print(\"Try again! You have %d more tries.\\n\" %(try1-1))\n",
    "        elif try1 == 2:\n",
    "            print(\"Sorry your answer was incorrect.\")\n",
    "            print(\"Hint:\", hint[0])\n",
    "        else :\n",
    "            print(\"Congratulations! You got it right.\\n\")\n",
    "            try1 = try1 -1             \n",
    "    try2 = n    \n",
    "    print(\"What is the type of the following?\")\n",
    "    print(\"'1' * 2\")\n",
    "    while try2 > 0:            \n",
    "        answer2 = str.lower(str.strip(input(\"Your Answer: \")))\n",
    "        print(\"You answered '%s'. The correct answer is '%s'.\" %(answer2, Correct_an[1]))   \n",
    "        if answer2 == Correct_an[1]:\n",
    "            print(\"Congratulations! You got it right.\\n\")\n",
    "            count += 1\n",
    "            break\n",
    "        elif try2 > 2:\n",
    "            print(\"Sorry your answer was incorrect.\\n\")\n",
    "            print(\"Try again! You have %d more tries.\\n\" %(try2-1))\n",
    "        elif try2 == 2:\n",
    "            print(\"Sorry your answer was incorrect.\")\n",
    "            print(\"Hint:\", hint[1])\n",
    "        else :\n",
    "            print(\"Congratulations! You got it right.\\n\")\n",
    "            try2 = try2 -1   \n",
    "    try3 = n        \n",
    "    print('''What does this expression evaluate to?\n",
    "          True != (3 < 2)\n",
    "          ''')\n",
    "    while try3 > 0:\n",
    "        answer3 = str.lower(str.strip(input(\"Your Answer: \")))\n",
    "        print(\"You answered '%s'. The correct answer is '%s'.\" %(answer3, Correct_an[2])) \n",
    "        if answer3 == Correct_an[2]:\n",
    "            print(\"Congratulations! You got it right.\\n\")\n",
    "            count += 1\n",
    "            break\n",
    "        elif try3 > 2:\n",
    "            print(\"Sorry your answer was incorrect.\\n\")\n",
    "            print(\"Try again! You have %d more tries.\\n\" %(try3-1))\n",
    "        elif try3 == 2:\n",
    "            print(\"Sorry your answer was incorrect.\")\n",
    "            print(\"Hint:\", hint[2])\n",
    "        else :\n",
    "            print(\"Congratulations! You got it right.\\n\")\n",
    "            try3 = try3 -1\n",
    "    print(\"You tried 3 questions and got %d right.\" % count)\n",
    "    "
   ]
  },
  {
   "cell_type": "code",
   "execution_count": null,
   "metadata": {},
   "outputs": [],
   "source": []
  },
  {
   "cell_type": "code",
   "execution_count": null,
   "metadata": {},
   "outputs": [],
   "source": []
  }
 ],
 "metadata": {
  "kernelspec": {
   "display_name": "Python 3",
   "language": "python",
   "name": "python3"
  },
  "language_info": {
   "codemirror_mode": {
    "name": "ipython",
    "version": 3
   },
   "file_extension": ".py",
   "mimetype": "text/x-python",
   "name": "python",
   "nbconvert_exporter": "python",
   "pygments_lexer": "ipython3",
   "version": "3.6.5"
  }
 },
 "nbformat": 4,
 "nbformat_minor": 2
}
