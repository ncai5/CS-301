{
 "cells": [
  {
   "cell_type": "code",
   "execution_count": 1,
   "metadata": {},
   "outputs": [],
   "source": [
    "# project: p5\n",
    "# submitter-netid: ncai5\n",
    "# partner-netid: hpan56"
   ]
  },
  {
   "cell_type": "code",
   "execution_count": 2,
   "metadata": {},
   "outputs": [
    {
     "data": {
      "text/plain": [
       "['__builtins__',\n",
       " '__cached__',\n",
       " '__doc__',\n",
       " '__file__',\n",
       " '__hurricane__',\n",
       " '__init__',\n",
       " '__loader__',\n",
       " '__name__',\n",
       " '__package__',\n",
       " '__spec__',\n",
       " 'count',\n",
       " 'get_damage',\n",
       " 'get_deaths',\n",
       " 'get_mph',\n",
       " 'get_name',\n",
       " 'get_year']"
      ]
     },
     "execution_count": 2,
     "metadata": {},
     "output_type": "execute_result"
    }
   ],
   "source": [
    "import project\n",
    "dir(project)"
   ]
  },
  {
   "cell_type": "code",
   "execution_count": 3,
   "metadata": {},
   "outputs": [
    {
     "data": {
      "text/plain": [
       "111"
      ]
     },
     "execution_count": 3,
     "metadata": {},
     "output_type": "execute_result"
    }
   ],
   "source": [
    "#q1 How many records are in the dataset?\n",
    "count=project.count()\n",
    "count"
   ]
  },
  {
   "cell_type": "code",
   "execution_count": 4,
   "metadata": {},
   "outputs": [
    {
     "data": {
      "text/plain": [
       "'Baker'"
      ]
     },
     "execution_count": 4,
     "metadata": {},
     "output_type": "execute_result"
    }
   ],
   "source": [
    "#q2 What is the name of the hurricane at index 0?\n",
    "name=project.get_name(0)\n",
    "name"
   ]
  },
  {
   "cell_type": "code",
   "execution_count": 5,
   "metadata": {},
   "outputs": [
    {
     "data": {
      "text/plain": [
       "1"
      ]
     },
     "execution_count": 5,
     "metadata": {},
     "output_type": "execute_result"
    }
   ],
   "source": [
    "#q3 How many deaths were caused by the hurricane at index 110?\n",
    "death=project.get_deaths(110)\n",
    "death"
   ]
  },
  {
   "cell_type": "code",
   "execution_count": 6,
   "metadata": {},
   "outputs": [
    {
     "data": {
      "text/plain": [
       "1430000000"
      ]
     },
     "execution_count": 6,
     "metadata": {},
     "output_type": "execute_result"
    }
   ],
   "source": [
    "#q4 How much damage (in dollars) was done by the hurricane at index 1?\n",
    "import re\n",
    "damage0=project.get_damage(1)\n",
    "def damagecount(damage):\n",
    "    if damage[-1] == \"B\":\n",
    "        if \".\"in damage[0:len(damage)-1]:\n",
    "            for i in range(0,len(damage)):\n",
    "                if damage[i] == \".\":\n",
    "                    dot=i\n",
    "                    break\n",
    "            damagenew=int(re.sub('[./B]', '', damage))*1000000000/10**(len(damage)-2-i)\n",
    "        else:\n",
    "            damagenew=int(re.sub('[B]', '', damage))*1000000000\n",
    "    elif damage[-1] == \"M\":\n",
    "        if \".\"in damage[0:len(damage)-1]:\n",
    "            for i in range(0,len(damage)):\n",
    "                if damage[i] == \".\":\n",
    "                    dot=i\n",
    "                    break\n",
    "            damagenew=int(re.sub('[./M]', '', damage))*1000000/10**(len(damage)-2-i)\n",
    "        else:\n",
    "            damagenew=int(re.sub('[M]', '', damage))*1000000\n",
    "    elif damage[-1] == \"K\":\n",
    "        if \".\"in damage[0:len(damage)-1]:\n",
    "            for i in range(0,len(damage)):\n",
    "                if damage[i] == \".\":\n",
    "                    dot=i\n",
    "                    break\n",
    "            damagenew=int(re.sub('[./K]', '', damage))*1000/10**(len(damage)-2-i)\n",
    "        else:\n",
    "            damagenew=int(re.sub('[K]', '', damage))*1000\n",
    "    else:\n",
    "        damagenew=int(damage)\n",
    "    return damagenew\n",
    "\n",
    "\n",
    "int(damagecount(damage0))"
   ]
  },
  {
   "cell_type": "code",
   "execution_count": 7,
   "metadata": {},
   "outputs": [
    {
     "name": "stdout",
     "output_type": "stream",
     "text": [
      "True\n"
     ]
    }
   ],
   "source": [
    "#q5 Is there a hurricane named Flossy?\n",
    "for i in range(project.count()):\n",
    "    if project.get_name(i) == \"Flossy\":\n",
    "        print(\"True\")\n",
    "        break"
   ]
  },
  {
   "cell_type": "code",
   "execution_count": 8,
   "metadata": {},
   "outputs": [
    {
     "data": {
      "text/plain": [
       "2"
      ]
     },
     "execution_count": 8,
     "metadata": {},
     "output_type": "execute_result"
    }
   ],
   "source": [
    "#q6 How many hurricanes were named Floyd?\n",
    "floyd=0\n",
    "for i in range(project.count()):\n",
    "    if project.get_name(i).lower() == \"floyd\":\n",
    "        floyd+=1\n",
    "floyd"
   ]
  },
  {
   "cell_type": "code",
   "execution_count": 9,
   "metadata": {},
   "outputs": [
    {
     "data": {
      "text/plain": [
       "13129"
      ]
     },
     "execution_count": 9,
     "metadata": {},
     "output_type": "execute_result"
    }
   ],
   "source": [
    "#q7 How many total deaths are represented in the dataset?\n",
    "countdeath=0\n",
    "for i in range(0,project.count()):\n",
    "    countdeath+=int(project.get_deaths(i))\n",
    "countdeath"
   ]
  },
  {
   "cell_type": "code",
   "execution_count": 10,
   "metadata": {},
   "outputs": [
    {
     "data": {
      "text/plain": [
       "792890014998"
      ]
     },
     "execution_count": 10,
     "metadata": {},
     "output_type": "execute_result"
    }
   ],
   "source": [
    "#q8 What were the total damages across all hurricanes in the dataset, in dollars?\n",
    "totaldamage=0\n",
    "for i in range(0,project.count()):\n",
    "    totaldamage+=damagecount(project.get_damage(i))\n",
    "int(totaldamage)"
   ]
  },
  {
   "cell_type": "code",
   "execution_count": 11,
   "metadata": {},
   "outputs": [
    {
     "data": {
      "text/plain": [
       "190"
      ]
     },
     "execution_count": 11,
     "metadata": {},
     "output_type": "execute_result"
    }
   ],
   "source": [
    "#q9 What is the fastest MPH ever acheived by a hurricane?\n",
    "fastestmph=0\n",
    "for i in range(0,project.count()):\n",
    "    if int(project.get_mph(i)) > fastestmph:\n",
    "        fastestmph=int(project.get_mph(i))\n",
    "\n",
    "fastestmph"
   ]
  },
  {
   "cell_type": "code",
   "execution_count": 12,
   "metadata": {},
   "outputs": [
    {
     "data": {
      "text/plain": [
       "'Allen'"
      ]
     },
     "execution_count": 12,
     "metadata": {},
     "output_type": "execute_result"
    }
   ],
   "source": [
    "#q10 What is the name of that fastest hurricane?\n",
    "fastestmph=0\n",
    "index=0\n",
    "for i in range(0,project.count()):\n",
    "    if int(project.get_mph(i)) > fastestmph:\n",
    "        fastestmph=int(project.get_mph(i))\n",
    "        index=i\n",
    "project.get_name(index)"
   ]
  },
  {
   "cell_type": "code",
   "execution_count": 13,
   "metadata": {},
   "outputs": [
    {
     "data": {
      "text/plain": [
       "1980"
      ]
     },
     "execution_count": 13,
     "metadata": {},
     "output_type": "execute_result"
    }
   ],
   "source": [
    "#q11 In what year did that fastest hurricane occur?\n",
    "fastestmph=0\n",
    "index=0\n",
    "for i in range(0,project.count()):\n",
    "    if int(project.get_mph(i)) > fastestmph:\n",
    "        fastestmph=int(project.get_mph(i))\n",
    "        index=i\n",
    "project.get_year(index)"
   ]
  },
  {
   "cell_type": "code",
   "execution_count": 14,
   "metadata": {},
   "outputs": [
    {
     "data": {
      "text/plain": [
       "75"
      ]
     },
     "execution_count": 14,
     "metadata": {},
     "output_type": "execute_result"
    }
   ],
   "source": [
    "#q12 What is the slowest MPH in the dataset?\n",
    "slowestmph=project.get_mph(0)\n",
    "for i in range(1,project.count()):\n",
    "    if int(project.get_mph(i)) < slowestmph:\n",
    "        slowestmph=int(project.get_mph(i))\n",
    "slowestmph"
   ]
  },
  {
   "cell_type": "code",
   "execution_count": 15,
   "metadata": {},
   "outputs": [
    {
     "data": {
      "text/plain": [
       "'Maria'"
      ]
     },
     "execution_count": 15,
     "metadata": {},
     "output_type": "execute_result"
    }
   ],
   "source": [
    "#q13 what was the deadliest hurricane in the entire dataset?\n",
    "# return name of deadliest hurricane over the given date range\n",
    "def worst_in_range(year1=1900, year2=2100):\n",
    "    worst_idx = 0\n",
    "    deadliest=0\n",
    "    for i in range(project.count()):\n",
    "        if project.get_year(i) <= year2 and project.get_year(i) >= year1:\n",
    "            if int(project.get_deaths(i)) >= deadliest:\n",
    "                deadliest=int(project.get_deaths(i))\n",
    "                worst_idx=i\n",
    "    return project.get_name(worst_idx)\n",
    "worst_in_range()"
   ]
  },
  {
   "cell_type": "code",
   "execution_count": 16,
   "metadata": {},
   "outputs": [
    {
     "data": {
      "text/plain": [
       "'Jeanne'"
      ]
     },
     "execution_count": 16,
     "metadata": {},
     "output_type": "execute_result"
    }
   ],
   "source": [
    "#q14 what was the deadliest hurricane in or before 2016?\n",
    "worst_in_range(year2=2016)"
   ]
  },
  {
   "cell_type": "code",
   "execution_count": 17,
   "metadata": {},
   "outputs": [
    {
     "data": {
      "text/plain": [
       "'Katrina'"
      ]
     },
     "execution_count": 17,
     "metadata": {},
     "output_type": "execute_result"
    }
   ],
   "source": [
    "#q15 what was the deadliest hurricane between 2005 and 2016 (inclusive)?\n",
    "worst_in_range(year1=2005,year2=2016)"
   ]
  },
  {
   "cell_type": "code",
   "execution_count": 18,
   "metadata": {},
   "outputs": [
    {
     "data": {
      "text/plain": [
       "4452"
      ]
     },
     "execution_count": 18,
     "metadata": {},
     "output_type": "execute_result"
    }
   ],
   "source": [
    "#q16 how many people died in the decade starting in 2010?\n",
    "def decade_deaths(decade):\n",
    "    start_year=decade-decade%10\n",
    "    end_year=start_year+9\n",
    "    totaldeath=0\n",
    "    for i in range(project.count()):\n",
    "        if project.get_year(i) <= end_year and project.get_year(i) >= start_year:\n",
    "            totaldeath+=int(project.get_deaths(i))\n",
    "    return totaldeath\n",
    "decade_deaths(2010)"
   ]
  },
  {
   "cell_type": "code",
   "execution_count": 19,
   "metadata": {},
   "outputs": [
    {
     "data": {
      "text/plain": [
       "5580"
      ]
     },
     "execution_count": 19,
     "metadata": {},
     "output_type": "execute_result"
    }
   ],
   "source": [
    "#q17 how many people died in the decade starting in 2000?\n",
    "decade_deaths(2000)"
   ]
  },
  {
   "cell_type": "code",
   "execution_count": 20,
   "metadata": {},
   "outputs": [
    {
     "data": {
      "text/plain": [
       "996"
      ]
     },
     "execution_count": 20,
     "metadata": {},
     "output_type": "execute_result"
    }
   ],
   "source": [
    "#q18 how many people died in the decade starting in 1990?\n",
    "decade_deaths(1990)"
   ]
  },
  {
   "cell_type": "code",
   "execution_count": 21,
   "metadata": {},
   "outputs": [
    {
     "data": {
      "text/plain": [
       "483"
      ]
     },
     "execution_count": 21,
     "metadata": {},
     "output_type": "execute_result"
    }
   ],
   "source": [
    "#q19 how many people died in the decade starting in 1980?\n",
    "decade_deaths(1980)"
   ]
  },
  {
   "cell_type": "code",
   "execution_count": 22,
   "metadata": {},
   "outputs": [
    {
     "data": {
      "text/plain": [
       "2000"
      ]
     },
     "execution_count": 22,
     "metadata": {},
     "output_type": "execute_result"
    }
   ],
   "source": [
    "#q20 what was deadliest decade in the dataset?\n",
    "death=0\n",
    "index=190\n",
    "for i in range(190,211):\n",
    "    if decade_deaths(i*10) > death:\n",
    "        death=decade_deaths(i*10)\n",
    "        index=i\n",
    "\n",
    "index*10"
   ]
  }
 ],
 "metadata": {
  "kernelspec": {
   "display_name": "Python 3",
   "language": "python",
   "name": "python3"
  },
  "language_info": {
   "codemirror_mode": {
    "name": "ipython",
    "version": 3
   },
   "file_extension": ".py",
   "mimetype": "text/x-python",
   "name": "python",
   "nbconvert_exporter": "python",
   "pygments_lexer": "ipython3",
   "version": "3.6.5"
  }
 },
 "nbformat": 4,
 "nbformat_minor": 2
}
